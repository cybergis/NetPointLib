{
 "cells": [
  {
   "cell_type": "code",
   "execution_count": 1,
   "metadata": {},
   "outputs": [],
   "source": [
    "import sys\n",
    "import os\n",
    "\n",
    "module_path = os.path.abspath(os.path.join('../lib'))\n",
    "if module_path not in sys.path:\n",
    "    sys.path.append(module_path)\n",
    "\n",
    "\n",
    "from multiMapMatching import *\n",
    "from hotspot import *"
   ]
  },
  {
   "cell_type": "code",
   "execution_count": 8,
   "metadata": {},
   "outputs": [
    {
     "name": "stdout",
     "output_type": "stream",
     "text": [
      "Total number of events: 14416\n",
      "Callback received: skip\n",
      "Callback received: skip\n",
      "Callback received: Fail to match points in grid (-87.907472601, 41.704589713000004): NaN or None values are not allowed.\n",
      "Callback received: Fail to match points in grid (-87.84747260099999, 41.82458971300001): NaN or None values are not allowed.\n",
      "Callback received: Fail to match points in grid (-87.84747260099999, 41.644589713): NaN or None values are not allowed.\n",
      "Callback received: skip\n",
      "Callback received: Fail to match points in grid (-87.84747260099999, 41.88458971300001): NaN or None values are not allowed.\n",
      "Callback received: skip\n",
      "Callback received: Fail to match points in grid (-87.907472601, 41.88458971300001): NaN or None values are not allowed.\n",
      "Callback received: Fail to match points in grid (-87.907472601, 41.644589713): NaN or None values are not allowed.\n",
      "Callback received: Fail to match points in grid (-87.907472601, 41.76458971300001): NaN or None values are not allowed.\n",
      "Callback received: Fail to match points in grid (-87.78747260099999, 41.644589713): NaN or None values are not allowed.\n",
      "Callback received: Fail to match points in grid (-87.84747260099999, 41.704589713000004): NaN or None values are not allowed.\n",
      "Callback received: skip\n",
      "Callback received: Fail to match points in grid (-87.907472601, 41.82458971300001): NaN or None values are not allowed.\n",
      "Callback received: Fail to match points in grid (-87.78747260099999, 41.704589713000004): NaN or None values are not allowed.\n",
      "Callback received: skip\n",
      "Callback received: Fail to match points in grid (-87.84747260099999, 41.76458971300001): NaN or None values are not allowed.\n",
      "Callback received: skip\n",
      "Callback received: skip\n",
      "Callback received: skip\n",
      "Callback received: Fail to match points in grid (-87.72747260099999, 41.644589713): NaN or None values are not allowed.\n",
      "Callback received: skip\n",
      "Callback received: skip\n"
     ]
    }
   ],
   "source": [
    "G = match_points_to_network(\"Chicago\", \"../data/Crimes_Chicago_last 30.csv\",  \"Longitude\", \"Latitude\", 10 )"
   ]
  },
  {
   "cell_type": "code",
   "execution_count": 7,
   "metadata": {},
   "outputs": [
    {
     "name": "stdout",
     "output_type": "stream",
     "text": [
      "Total number of events: 14416\n",
      "Callback received: skip\n",
      "Callback received: Fail to match points in grid (-87.907472601, 41.704589713000004): NaN or None values are not allowed.\n",
      "Callback received: Fail to match points in grid (-87.907472601, 41.76458971300001): NaN or None values are not allowed.\n",
      "Callback received: Fail to match points in grid (-87.907472601, 41.644589713): NaN or None values are not allowed.\n",
      "Callback received: Fail to match points in grid (-87.907472601, 41.82458971300001): NaN or None values are not allowed.\n",
      "Callback received: Fail to match points in grid (-87.907472601, 41.88458971300001): NaN or None values are not allowed.\n",
      "Callback received: Fail to match points in grid (-87.84747260099999, 41.704589713000004): NaN or None values are not allowed.\n",
      "Callback received: Fail to match points in grid (-87.84747260099999, 41.76458971300001): NaN or None values are not allowed.\n",
      "Callback received: Fail to match points in grid (-87.84747260099999, 41.82458971300001): NaN or None values are not allowed.\n",
      "Callback received: skip\n",
      "Callback received: Fail to match points in grid (-87.84747260099999, 41.88458971300001): NaN or None values are not allowed.\n",
      "Callback received: skip\n",
      "Callback received: Fail to match points in grid (-87.84747260099999, 41.644589713): NaN or None values are not allowed.\n",
      "Callback received: skip\n",
      "Callback received: Fail to match points in grid (-87.78747260099999, 41.644589713): NaN or None values are not allowed.\n",
      "Callback received: skip\n",
      "Callback received: Fail to match points in grid (-87.78747260099999, 41.704589713000004): NaN or None values are not allowed.\n",
      "Callback received: skip\n",
      "Callback received: skip\n",
      "Callback received: skip\n",
      "Callback received: skip\n",
      "Callback received: Fail to match points in grid (-87.72747260099999, 41.644589713): NaN or None values are not allowed.\n",
      "Callback received: skip\n",
      "Callback received: skip\n"
     ]
    }
   ],
   "source": [
    "import pandas as pd\n",
    "import multiprocessing\n",
    "\n",
    "number_of_processes = 8\n",
    "location = \"Chicago\"\n",
    "output_folder = \"Temp_Grids\"\n",
    "data_file = \"../data/Crimes_Chicago_last 30.csv\"\n",
    "lon = \"Longitude\"\n",
    "lat = \"Latitude\"\n",
    "points = pd.read_csv(data_file)\n",
    "print(\"Total number of events: \" + str(points.shape[0]))\n",
    "xmin = points[lon].min()\n",
    "xmax = points[lon].max()\n",
    "ymin = points[lat].min()\n",
    "ymax = points[lat].max()\n",
    "p = multiprocessing.Pool(int(number_of_processes))\n",
    "#prob = (-118.3621635,34.0122962)\n",
    "#GList = list()\n",
    "i = 100\n",
    "x = xmin\n",
    "while x < xmax:\n",
    "    y = ymin\n",
    "    while y < ymax:\n",
    "        p.apply_async(map_and_save, (location, output_folder, (x,y), i, points,), callback=report_status)\n",
    "        #map_and_save((x,y), i, crimes)\n",
    "        #message = poolResult.get()\n",
    "        #print(message)\n",
    "        #print(map_and_save((x,y), i, crimes))\n",
    "        y = y + 0.06\n",
    "        i = i+1\n",
    "    x = x + 0.06\n",
    "p.close()\n",
    "p.join() "
   ]
  },
  {
   "cell_type": "code",
   "execution_count": 7,
   "metadata": {},
   "outputs": [
    {
     "name": "stdout",
     "output_type": "stream",
     "text": [
      "(-87.938472601, 41.675589713)\n",
      "(-87.87647260099999, 41.613589713)\n"
     ]
    },
    {
     "ename": "ValueError",
     "evalue": "NaN or None values are not allowed.",
     "output_type": "error",
     "traceback": [
      "\u001b[1;31m---------------------------------------------------------------------------\u001b[0m",
      "\u001b[1;31mValueError\u001b[0m                                Traceback (most recent call last)",
      "Cell \u001b[1;32mIn[7], line 18\u001b[0m\n\u001b[0;32m     16\u001b[0m \u001b[38;5;28mprint\u001b[39m(wn)\n\u001b[0;32m     17\u001b[0m \u001b[38;5;28mprint\u001b[39m(es)\n\u001b[1;32m---> 18\u001b[0m G\u001b[38;5;241m=\u001b[39m\u001b[43mgraph_from_bbox_with_place\u001b[49m\u001b[43m(\u001b[49m\u001b[43mplace\u001b[49m\u001b[43m,\u001b[49m\u001b[43m \u001b[49m\u001b[43mwn\u001b[49m\u001b[43m[\u001b[49m\u001b[38;5;241;43m1\u001b[39;49m\u001b[43m]\u001b[49m\u001b[43m,\u001b[49m\u001b[43m \u001b[49m\u001b[43mes\u001b[49m\u001b[43m[\u001b[49m\u001b[38;5;241;43m1\u001b[39;49m\u001b[43m]\u001b[49m\u001b[43m,\u001b[49m\u001b[43m \u001b[49m\u001b[43mes\u001b[49m\u001b[43m[\u001b[49m\u001b[38;5;241;43m0\u001b[39;49m\u001b[43m]\u001b[49m\u001b[43m,\u001b[49m\u001b[43m \u001b[49m\u001b[43mwn\u001b[49m\u001b[43m[\u001b[49m\u001b[38;5;241;43m0\u001b[39;49m\u001b[43m]\u001b[49m\u001b[43m,\u001b[49m\u001b[43m \u001b[49m\u001b[43mnetwork_type\u001b[49m\u001b[38;5;241;43m=\u001b[39;49m\u001b[38;5;124;43m\"\u001b[39;49m\u001b[38;5;124;43mdrive_service\u001b[39;49m\u001b[38;5;124;43m\"\u001b[39;49m\u001b[43m,\u001b[49m\u001b[43m \u001b[49m\u001b[43msimplify\u001b[49m\u001b[38;5;241;43m=\u001b[39;49m\u001b[38;5;28;43;01mFalse\u001b[39;49;00m\u001b[43m)\u001b[49m\n",
      "File \u001b[1;32mc:\\Users\\50476\\Documents\\GitHub\\Point-to-map\\lib\\hotspot.py:1223\u001b[0m, in \u001b[0;36mgraph_from_bbox_with_place\u001b[1;34m(query, north, south, east, west, network_type, simplify, retain_all, truncate_by_edge, clean_periphery, custom_filter)\u001b[0m\n\u001b[0;32m   1220\u001b[0m bbox_polygon \u001b[38;5;241m=\u001b[39m ox\u001b[38;5;241m.\u001b[39mutils_geo\u001b[38;5;241m.\u001b[39mbbox_to_poly(bbox\u001b[38;5;241m=\u001b[39mbbox)\n\u001b[0;32m   1222\u001b[0m intersection_polygon \u001b[38;5;241m=\u001b[39m shapely\u001b[38;5;241m.\u001b[39mintersection(place_polygon, bbox_polygon)\n\u001b[1;32m-> 1223\u001b[0m G \u001b[38;5;241m=\u001b[39m \u001b[43mox\u001b[49m\u001b[38;5;241;43m.\u001b[39;49m\u001b[43mgraph_from_polygon\u001b[49m\u001b[43m(\u001b[49m\n\u001b[0;32m   1224\u001b[0m \u001b[43m        \u001b[49m\u001b[43mintersection_polygon\u001b[49m\u001b[43m,\u001b[49m\n\u001b[0;32m   1225\u001b[0m \u001b[43m        \u001b[49m\u001b[43mnetwork_type\u001b[49m\u001b[38;5;241;43m=\u001b[39;49m\u001b[43mnetwork_type\u001b[49m\u001b[43m,\u001b[49m\n\u001b[0;32m   1226\u001b[0m \u001b[43m        \u001b[49m\u001b[43msimplify\u001b[49m\u001b[38;5;241;43m=\u001b[39;49m\u001b[43msimplify\u001b[49m\u001b[43m,\u001b[49m\n\u001b[0;32m   1227\u001b[0m \u001b[43m        \u001b[49m\u001b[43mretain_all\u001b[49m\u001b[38;5;241;43m=\u001b[39;49m\u001b[43mretain_all\u001b[49m\u001b[43m,\u001b[49m\n\u001b[0;32m   1228\u001b[0m \u001b[43m        \u001b[49m\u001b[43mtruncate_by_edge\u001b[49m\u001b[38;5;241;43m=\u001b[39;49m\u001b[43mtruncate_by_edge\u001b[49m\u001b[43m,\u001b[49m\n\u001b[0;32m   1229\u001b[0m \u001b[43m        \u001b[49m\u001b[43mclean_periphery\u001b[49m\u001b[38;5;241;43m=\u001b[39;49m\u001b[43mclean_periphery\u001b[49m\u001b[43m,\u001b[49m\n\u001b[0;32m   1230\u001b[0m \u001b[43m        \u001b[49m\u001b[43mcustom_filter\u001b[49m\u001b[38;5;241;43m=\u001b[39;49m\u001b[43mcustom_filter\u001b[49m\u001b[43m,\u001b[49m\n\u001b[0;32m   1231\u001b[0m \u001b[43m    \u001b[49m\u001b[43m)\u001b[49m\n\u001b[0;32m   1232\u001b[0m \u001b[38;5;28;01mreturn\u001b[39;00m G\n",
      "File \u001b[1;32mc:\\Users\\50476\\anaconda3\\lib\\site-packages\\osmnx\\graph.py:484\u001b[0m, in \u001b[0;36mgraph_from_polygon\u001b[1;34m(polygon, network_type, simplify, retain_all, truncate_by_edge, clean_periphery, custom_filter)\u001b[0m\n\u001b[0;32m    481\u001b[0m \u001b[38;5;28;01mif\u001b[39;00m clean_periphery:\n\u001b[0;32m    482\u001b[0m     \u001b[38;5;66;03m# create a new buffered polygon 0.5km around the desired one\u001b[39;00m\n\u001b[0;32m    483\u001b[0m     buffer_dist \u001b[38;5;241m=\u001b[39m \u001b[38;5;241m500\u001b[39m\n\u001b[1;32m--> 484\u001b[0m     poly_proj, crs_utm \u001b[38;5;241m=\u001b[39m \u001b[43mprojection\u001b[49m\u001b[38;5;241;43m.\u001b[39;49m\u001b[43mproject_geometry\u001b[49m\u001b[43m(\u001b[49m\u001b[43mpolygon\u001b[49m\u001b[43m)\u001b[49m\n\u001b[0;32m    485\u001b[0m     poly_proj_buff \u001b[38;5;241m=\u001b[39m poly_proj\u001b[38;5;241m.\u001b[39mbuffer(buffer_dist)\n\u001b[0;32m    486\u001b[0m     poly_buff, _ \u001b[38;5;241m=\u001b[39m projection\u001b[38;5;241m.\u001b[39mproject_geometry(poly_proj_buff, crs\u001b[38;5;241m=\u001b[39mcrs_utm, to_latlong\u001b[38;5;241m=\u001b[39m\u001b[38;5;28;01mTrue\u001b[39;00m)\n",
      "File \u001b[1;32mc:\\Users\\50476\\anaconda3\\lib\\site-packages\\osmnx\\projection.py:60\u001b[0m, in \u001b[0;36mproject_geometry\u001b[1;34m(geometry, crs, to_crs, to_latlong)\u001b[0m\n\u001b[0;32m     57\u001b[0m     crs \u001b[38;5;241m=\u001b[39m settings\u001b[38;5;241m.\u001b[39mdefault_crs\n\u001b[0;32m     59\u001b[0m gdf \u001b[38;5;241m=\u001b[39m gpd\u001b[38;5;241m.\u001b[39mGeoDataFrame(geometry\u001b[38;5;241m=\u001b[39m[geometry], crs\u001b[38;5;241m=\u001b[39mcrs)\n\u001b[1;32m---> 60\u001b[0m gdf_proj \u001b[38;5;241m=\u001b[39m \u001b[43mproject_gdf\u001b[49m\u001b[43m(\u001b[49m\u001b[43mgdf\u001b[49m\u001b[43m,\u001b[49m\u001b[43m \u001b[49m\u001b[43mto_crs\u001b[49m\u001b[38;5;241;43m=\u001b[39;49m\u001b[43mto_crs\u001b[49m\u001b[43m,\u001b[49m\u001b[43m \u001b[49m\u001b[43mto_latlong\u001b[49m\u001b[38;5;241;43m=\u001b[39;49m\u001b[43mto_latlong\u001b[49m\u001b[43m)\u001b[49m\n\u001b[0;32m     61\u001b[0m geometry_proj \u001b[38;5;241m=\u001b[39m gdf_proj[\u001b[38;5;124m\"\u001b[39m\u001b[38;5;124mgeometry\u001b[39m\u001b[38;5;124m\"\u001b[39m]\u001b[38;5;241m.\u001b[39miloc[\u001b[38;5;241m0\u001b[39m]\n\u001b[0;32m     62\u001b[0m \u001b[38;5;28;01mreturn\u001b[39;00m geometry_proj, gdf_proj\u001b[38;5;241m.\u001b[39mcrs\n",
      "File \u001b[1;32mc:\\Users\\50476\\anaconda3\\lib\\site-packages\\osmnx\\projection.py:99\u001b[0m, in \u001b[0;36mproject_gdf\u001b[1;34m(gdf, to_crs, to_latlong)\u001b[0m\n\u001b[0;32m     97\u001b[0m \u001b[38;5;66;03m# else if to_crs is None, project gdf to an appropriate UTM zone\u001b[39;00m\n\u001b[0;32m     98\u001b[0m \u001b[38;5;28;01melif\u001b[39;00m to_crs \u001b[38;5;129;01mis\u001b[39;00m \u001b[38;5;28;01mNone\u001b[39;00m:\n\u001b[1;32m---> 99\u001b[0m     to_crs \u001b[38;5;241m=\u001b[39m \u001b[43mgdf\u001b[49m\u001b[38;5;241;43m.\u001b[39;49m\u001b[43mestimate_utm_crs\u001b[49m\u001b[43m(\u001b[49m\u001b[43m)\u001b[49m\n\u001b[0;32m    101\u001b[0m \u001b[38;5;66;03m# project the gdf\u001b[39;00m\n\u001b[0;32m    102\u001b[0m gdf_proj \u001b[38;5;241m=\u001b[39m gdf\u001b[38;5;241m.\u001b[39mto_crs(to_crs)\n",
      "File \u001b[1;32mc:\\Users\\50476\\anaconda3\\lib\\site-packages\\geopandas\\geodataframe.py:1448\u001b[0m, in \u001b[0;36mGeoDataFrame.estimate_utm_crs\u001b[1;34m(self, datum_name)\u001b[0m\n\u001b[0;32m   1412\u001b[0m \u001b[38;5;28;01mdef\u001b[39;00m \u001b[38;5;21mestimate_utm_crs\u001b[39m(\u001b[38;5;28mself\u001b[39m, datum_name\u001b[38;5;241m=\u001b[39m\u001b[38;5;124m\"\u001b[39m\u001b[38;5;124mWGS 84\u001b[39m\u001b[38;5;124m\"\u001b[39m):\n\u001b[0;32m   1413\u001b[0m     \u001b[38;5;124;03m\"\"\"Returns the estimated UTM CRS based on the bounds of the dataset.\u001b[39;00m\n\u001b[0;32m   1414\u001b[0m \n\u001b[0;32m   1415\u001b[0m \u001b[38;5;124;03m    .. versionadded:: 0.9\u001b[39;00m\n\u001b[1;32m   (...)\u001b[0m\n\u001b[0;32m   1446\u001b[0m \u001b[38;5;124;03m    - Prime Meridian: Greenwich\u001b[39;00m\n\u001b[0;32m   1447\u001b[0m \u001b[38;5;124;03m    \"\"\"\u001b[39;00m\n\u001b[1;32m-> 1448\u001b[0m     \u001b[38;5;28;01mreturn\u001b[39;00m \u001b[38;5;28;43mself\u001b[39;49m\u001b[38;5;241;43m.\u001b[39;49m\u001b[43mgeometry\u001b[49m\u001b[38;5;241;43m.\u001b[39;49m\u001b[43mestimate_utm_crs\u001b[49m\u001b[43m(\u001b[49m\u001b[43mdatum_name\u001b[49m\u001b[38;5;241;43m=\u001b[39;49m\u001b[43mdatum_name\u001b[49m\u001b[43m)\u001b[49m\n",
      "File \u001b[1;32mc:\\Users\\50476\\anaconda3\\lib\\site-packages\\geopandas\\geoseries.py:1209\u001b[0m, in \u001b[0;36mGeoSeries.estimate_utm_crs\u001b[1;34m(self, datum_name)\u001b[0m\n\u001b[0;32m   1173\u001b[0m \u001b[38;5;28;01mdef\u001b[39;00m \u001b[38;5;21mestimate_utm_crs\u001b[39m(\u001b[38;5;28mself\u001b[39m, datum_name: \u001b[38;5;28mstr\u001b[39m \u001b[38;5;241m=\u001b[39m \u001b[38;5;124m\"\u001b[39m\u001b[38;5;124mWGS 84\u001b[39m\u001b[38;5;124m\"\u001b[39m) \u001b[38;5;241m-\u001b[39m\u001b[38;5;241m>\u001b[39m CRS:\n\u001b[0;32m   1174\u001b[0m     \u001b[38;5;124;03m\"\"\"Returns the estimated UTM CRS based on the bounds of the dataset.\u001b[39;00m\n\u001b[0;32m   1175\u001b[0m \n\u001b[0;32m   1176\u001b[0m \u001b[38;5;124;03m    .. versionadded:: 0.9\u001b[39;00m\n\u001b[1;32m   (...)\u001b[0m\n\u001b[0;32m   1207\u001b[0m \u001b[38;5;124;03m    - Prime Meridian: Greenwich\u001b[39;00m\n\u001b[0;32m   1208\u001b[0m \u001b[38;5;124;03m    \"\"\"\u001b[39;00m\n\u001b[1;32m-> 1209\u001b[0m     \u001b[38;5;28;01mreturn\u001b[39;00m \u001b[38;5;28;43mself\u001b[39;49m\u001b[38;5;241;43m.\u001b[39;49m\u001b[43mvalues\u001b[49m\u001b[38;5;241;43m.\u001b[39;49m\u001b[43mestimate_utm_crs\u001b[49m\u001b[43m(\u001b[49m\u001b[43mdatum_name\u001b[49m\u001b[43m)\u001b[49m\n",
      "File \u001b[1;32mc:\\Users\\50476\\anaconda3\\lib\\site-packages\\geopandas\\array.py:942\u001b[0m, in \u001b[0;36mGeometryArray.estimate_utm_crs\u001b[1;34m(self, datum_name)\u001b[0m\n\u001b[0;32m    937\u001b[0m     \u001b[38;5;28;01melse\u001b[39;00m:\n\u001b[0;32m    938\u001b[0m         x_center \u001b[38;5;241m=\u001b[39m np\u001b[38;5;241m.\u001b[39mmean([minx, maxx])\n\u001b[0;32m    940\u001b[0m utm_crs_list \u001b[38;5;241m=\u001b[39m query_utm_crs_info(\n\u001b[0;32m    941\u001b[0m     datum_name\u001b[38;5;241m=\u001b[39mdatum_name,\n\u001b[1;32m--> 942\u001b[0m     area_of_interest\u001b[38;5;241m=\u001b[39m\u001b[43mAreaOfInterest\u001b[49m\u001b[43m(\u001b[49m\n\u001b[0;32m    943\u001b[0m \u001b[43m        \u001b[49m\u001b[43mwest_lon_degree\u001b[49m\u001b[38;5;241;43m=\u001b[39;49m\u001b[43mx_center\u001b[49m\u001b[43m,\u001b[49m\n\u001b[0;32m    944\u001b[0m \u001b[43m        \u001b[49m\u001b[43msouth_lat_degree\u001b[49m\u001b[38;5;241;43m=\u001b[39;49m\u001b[43my_center\u001b[49m\u001b[43m,\u001b[49m\n\u001b[0;32m    945\u001b[0m \u001b[43m        \u001b[49m\u001b[43meast_lon_degree\u001b[49m\u001b[38;5;241;43m=\u001b[39;49m\u001b[43mx_center\u001b[49m\u001b[43m,\u001b[49m\n\u001b[0;32m    946\u001b[0m \u001b[43m        \u001b[49m\u001b[43mnorth_lat_degree\u001b[49m\u001b[38;5;241;43m=\u001b[39;49m\u001b[43my_center\u001b[49m\u001b[43m,\u001b[49m\n\u001b[0;32m    947\u001b[0m \u001b[43m    \u001b[49m\u001b[43m)\u001b[49m,\n\u001b[0;32m    948\u001b[0m )\n\u001b[0;32m    949\u001b[0m \u001b[38;5;28;01mtry\u001b[39;00m:\n\u001b[0;32m    950\u001b[0m     \u001b[38;5;28;01mreturn\u001b[39;00m CRS\u001b[38;5;241m.\u001b[39mfrom_epsg(utm_crs_list[\u001b[38;5;241m0\u001b[39m]\u001b[38;5;241m.\u001b[39mcode)\n",
      "File \u001b[1;32m<string>:7\u001b[0m, in \u001b[0;36m__init__\u001b[1;34m(self, west_lon_degree, south_lat_degree, east_lon_degree, north_lat_degree)\u001b[0m\n",
      "File \u001b[1;32mc:\\Users\\50476\\anaconda3\\lib\\site-packages\\pyproj\\aoi.py:37\u001b[0m, in \u001b[0;36mAreaOfInterest.__post_init__\u001b[1;34m(self)\u001b[0m\n\u001b[0;32m     30\u001b[0m \u001b[38;5;28;01mdef\u001b[39;00m \u001b[38;5;21m__post_init__\u001b[39m(\u001b[38;5;28mself\u001b[39m):\n\u001b[0;32m     31\u001b[0m     \u001b[38;5;28;01mif\u001b[39;00m (\n\u001b[0;32m     32\u001b[0m         is_null(\u001b[38;5;28mself\u001b[39m\u001b[38;5;241m.\u001b[39mwest_lon_degree)\n\u001b[0;32m     33\u001b[0m         \u001b[38;5;129;01mor\u001b[39;00m is_null(\u001b[38;5;28mself\u001b[39m\u001b[38;5;241m.\u001b[39msouth_lat_degree)\n\u001b[0;32m     34\u001b[0m         \u001b[38;5;129;01mor\u001b[39;00m is_null(\u001b[38;5;28mself\u001b[39m\u001b[38;5;241m.\u001b[39meast_lon_degree)\n\u001b[0;32m     35\u001b[0m         \u001b[38;5;129;01mor\u001b[39;00m is_null(\u001b[38;5;28mself\u001b[39m\u001b[38;5;241m.\u001b[39mnorth_lat_degree)\n\u001b[0;32m     36\u001b[0m     ):\n\u001b[1;32m---> 37\u001b[0m         \u001b[38;5;28;01mraise\u001b[39;00m \u001b[38;5;167;01mValueError\u001b[39;00m(\u001b[38;5;124m\"\u001b[39m\u001b[38;5;124mNaN or None values are not allowed.\u001b[39m\u001b[38;5;124m\"\u001b[39m)\n",
      "\u001b[1;31mValueError\u001b[0m: NaN or None values are not allowed."
     ]
    }
   ],
   "source": [
    "number_of_processes = 8\n",
    "location = \"Chicago\"\n",
    "place = location\n",
    "output_folder = \"Temp_Grids\"\n",
    "data_file = \"../data/Crimes_Chicago_last 30.csv\"\n",
    "lon = \"Longitude\"\n",
    "lat = \"Latitude\"\n",
    "points = pd.read_csv(data_file)\n",
    "x = -87.907472601\n",
    "y = 41.644589713\n",
    "prob = (x, y)\n",
    "#map_and_save(location, output_folder, (x,y), i, points)\n",
    "#map_events_to_tile_cropped_by_place(location, (x,y), points, base_id = points.shape[0] * 1, show_log = False)\n",
    "wn = (prob[0] - 0.031, prob[1] + 0.031 )\n",
    "es = (prob[0] + 0.031, prob[1] - 0.031 )\n",
    "print(wn)\n",
    "print(es)\n",
    "G=graph_from_bbox_with_place(place, wn[1], es[1], es[0], wn[0], network_type=\"drive_service\", simplify=False)"
   ]
  },
  {
   "cell_type": "code",
   "execution_count": null,
   "metadata": {},
   "outputs": [],
   "source": [
    "nc = [\"r\" if (node <0) else \"b\" for node in G.nodes()]\n",
    "ns = [10 if (node <0) else 0 for node in G.nodes()]\n",
    "fig, ax = ox.plot_graph(G, node_color=nc, node_size = ns, bgcolor = '#ffffff', save = False)"
   ]
  },
  {
   "cell_type": "code",
   "execution_count": 7,
   "metadata": {},
   "outputs": [],
   "source": [
    "from network_local_k import *\n",
    "\n",
    "node = G.nodes[0]\n",
    "network_local_k(n, G, whole(G), l(G))"
   ]
  }
 ],
 "metadata": {
  "kernelspec": {
   "display_name": "base",
   "language": "python",
   "name": "python3"
  },
  "language_info": {
   "codemirror_mode": {
    "name": "ipython",
    "version": 3
   },
   "file_extension": ".py",
   "mimetype": "text/x-python",
   "name": "python",
   "nbconvert_exporter": "python",
   "pygments_lexer": "ipython3",
   "version": "3.9.15"
  }
 },
 "nbformat": 4,
 "nbformat_minor": 2
}
